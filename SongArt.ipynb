{
 "cells": [
  {
   "cell_type": "code",
   "execution_count": null,
   "metadata": {},
   "outputs": [],
   "source": [
    "import numpy as np\n",
    "from matplotlib import pyplot as plt\n",
    "import lyricwikia\n",
    "import ipywidgets as wd"
   ]
  },
  {
   "cell_type": "code",
   "execution_count": null,
   "metadata": {},
   "outputs": [],
   "source": [
    "%config InlineBackend.figure_format = 'retina'\n",
    "%matplotlib inline\n",
    "plt.rcParams['figure.figsize'] = 15,15\n",
    "plt.rcParams['font.size'] = 32\n",
    "# plt.style.use('dark_background')\n",
    "plt.rcParams['lines.linewidth'] = 5\n",
    "plt.rcParams['font.family'] = 'Georgia'\n",
    "dirname, fname = 'growatomata', 'estimates'"
   ]
  },
  {
   "cell_type": "markdown",
   "metadata": {},
   "source": [
    "---\n",
    "# Inline version"
   ]
  },
  {
   "cell_type": "code",
   "execution_count": null,
   "metadata": {},
   "outputs": [],
   "source": [
    "band = 'Moby'\n",
    "song = 'Honey'\n",
    "# lyrics = lyricwikia.get_lyrics(band, song)\n",
    "\n",
    "lyrics = lyrics.replace('\\n',' ')\n",
    "lyrics = lyrics.replace('\\'s','_s')\n",
    "lyrics = lyrics.replace('\\'t','_t')\n",
    "lyrics = lyrics.replace('\\'m','_m')\n",
    "lyrics = lyrics.replace('\\'d','_d')\n",
    "lyrics = lyrics.replace('\\'e','_e')\n",
    "lyrics = lyrics.replace('\\'a','_a')\n",
    "lyrics = lyrics.replace('\\'','')\n",
    "lyrics = lyrics.replace(',','')\n",
    "L = lyrics.split()\n",
    "num_words = len(L)\n",
    "\n",
    "print(lyrics)"
   ]
  },
  {
   "cell_type": "code",
   "execution_count": null,
   "metadata": {},
   "outputs": [],
   "source": [
    "start = 0\n",
    "window = 0\n",
    "colors = 1\n",
    "cmap = 'binary'\n",
    "\n",
    "min_display = 25\n",
    "start = np.minimum(num_words - min_display, start)\n",
    "window = np.maximum(num_words - window - start,min_display)\n",
    "M = np.zeros((window,window))\n",
    "words = L\n",
    "uniqWords = sorted(set(words)) #remove duplicate words and sort\n",
    "#         print('num words: %d'%num_words, 'num unique:', len(uniqWords))\n",
    "D = {}\n",
    "max_ct = 0\n",
    "for word in uniqWords:\n",
    "    D[word] = words.count(word)\n",
    "    max_ct = max(words.count(word), max_ct)\n",
    "\n",
    "for i in range(window):\n",
    "    for j in range(window):\n",
    "        if L[start+i] == L[start+j]:\n",
    "            M[i,j] = color_map(D[L[start+i]]/max_ct, colors)\n",
    "\n",
    "fig, ax1 = plt.subplots(1,1)\n",
    "plt.imshow(M,cmap=cmap)\n",
    "# ax1.set_xticklabels(L,minor=True, rotation=45, fontsize=12)\n",
    "ax1.set_xticklabels([])\n",
    "ax1.set_yticklabels([])\n",
    "plt.show()   "
   ]
  },
  {
   "cell_type": "markdown",
   "metadata": {},
   "source": [
    "--- \n",
    "\n",
    "# Widget Version"
   ]
  },
  {
   "cell_type": "code",
   "execution_count": null,
   "metadata": {},
   "outputs": [],
   "source": [
    "def color_map(fl, bins=5):\n",
    "    bin_widths = np.linspace(0,1,bins+1)\n",
    "    for b in range(bins):\n",
    "        if fl>bin_widths[b] and fl<=bin_widths[b+1]:\n",
    "            return bin_widths[b+1]"
   ]
  },
  {
   "cell_type": "code",
   "execution_count": null,
   "metadata": {},
   "outputs": [],
   "source": [
    "def lyric_art(band, song, colors=5,start=0,window=0,cmap='jet'):\n",
    "    try:\n",
    "        lyrics = lyricwikia.get_lyrics(band, song)\n",
    "\n",
    "        lyrics = lyrics.replace('\\n',' ')\n",
    "        lyrics = lyrics.replace('\\'s','_s')\n",
    "        lyrics = lyrics.replace('\\'t','_t')\n",
    "        lyrics = lyrics.replace('\\'m','_m')\n",
    "        lyrics = lyrics.replace('\\'d','_d')\n",
    "        lyrics = lyrics.replace('\\'e','_e')\n",
    "        lyrics = lyrics.replace('\\'a','_a')\n",
    "        lyrics = lyrics.replace('\\'','')\n",
    "        lyrics = lyrics.replace(',','')\n",
    "        L = lyrics.split()\n",
    "        num_words = len(L)\n",
    "        # print(L)\n",
    "        min_display = 25\n",
    "        start = np.minimum(num_words - min_display, start)\n",
    "        window = np.maximum(num_words - window - start,min_display)\n",
    "        M = np.zeros((window,window))\n",
    "        words = L\n",
    "        uniqWords = sorted(set(words)) #remove duplicate words and sort\n",
    "    #         print('num words: %d'%num_words, 'num unique:', len(uniqWords))\n",
    "        D = {}\n",
    "        max_ct = 0\n",
    "        for word in uniqWords:\n",
    "            D[word] = words.count(word)\n",
    "            max_ct = max(words.count(word), max_ct)\n",
    "\n",
    "        for i in range(window):\n",
    "            for j in range(window):\n",
    "                if L[start+i] == L[start+j]:\n",
    "                    M[i,j] = color_map(D[L[start+i]]/max_ct, colors)\n",
    "                    \n",
    "        fig, ax1 = plt.subplots(1,1)\n",
    "        plt.imshow(M,cmap=cmap)\n",
    "        # ax1.set_xticklabels(L,minor=True, rotation=45, fontsize=12)\n",
    "        ax1.set_xticklabels([])\n",
    "        ax1.set_yticklabels([])\n",
    "        plt.show()            \n",
    "\n",
    "    except:\n",
    "        print('try again!')"
   ]
  },
  {
   "cell_type": "code",
   "execution_count": null,
   "metadata": {},
   "outputs": [],
   "source": [
    "wd.interact(lyric_art, band=wd.Text(value='Kid Cudi'), \n",
    "            song=wd.Text(value='Man on the Moon'),\n",
    "            start=wd.IntSlider(value=0,min=0,max=500,continuous_update=False),\n",
    "            window=wd.IntSlider(value=0,min=0,max=500,continuous_update=False),\n",
    "           colors=wd.IntSlider(value=3,min=1,max=10,continuous_update=False),\n",
    "           cmap = wd.Dropdown(options=plt.colormaps(),value='hot'))"
   ]
  },
  {
   "cell_type": "code",
   "execution_count": null,
   "metadata": {},
   "outputs": [],
   "source": []
  }
 ],
 "metadata": {
  "kernelspec": {
   "display_name": "Python 3",
   "language": "python",
   "name": "python3"
  },
  "language_info": {
   "codemirror_mode": {
    "name": "ipython",
    "version": 3
   },
   "file_extension": ".py",
   "mimetype": "text/x-python",
   "name": "python",
   "nbconvert_exporter": "python",
   "pygments_lexer": "ipython3",
   "version": "3.6.3"
  }
 },
 "nbformat": 4,
 "nbformat_minor": 2
}
